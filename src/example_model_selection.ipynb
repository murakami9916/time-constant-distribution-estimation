{
 "cells": [
  {
   "cell_type": "code",
   "execution_count": null,
   "metadata": {},
   "outputs": [],
   "source": [
    "import os, sys\n",
    "\n",
    "import numpyro\n",
    "import numpyro.distributions as dist\n",
    "from numpyro.infer import MCMC, NUTS, log_likelihood\n",
    "\n",
    "os.environ[\"XLA_FLAGS\"] = '--xla_force_host_platform_device_count=10'\n",
    "numpyro.set_host_device_count(10)\n",
    "\n",
    "import jax\n",
    "import jax.numpy as jnp\n",
    "from jax import random\n",
    "\n",
    "import pandas as pd\n",
    "import numpy as np\n",
    "\n",
    "\n",
    "import matplotlib.pyplot as plt\n",
    "\n",
    "from model import *\n",
    "\n",
    "plt.rcParams['font.size'] = 14\n",
    "# plt.rcParams['font.sans-serif'] = ['Arial']\n",
    "plt.rcParams['xtick.direction'] = 'in'\n",
    "plt.rcParams['ytick.direction'] = 'in'\n",
    "plt.rcParams['xtick.major.width'] = 1.5\n",
    "plt.rcParams['ytick.major.width'] = 1.5\n",
    "plt.rcParams['axes.linewidth'] = 1.2\n",
    "plt.rcParams['axes.grid']=False\n",
    "plt.rcParams['grid.linestyle']='--'\n",
    "plt.rcParams['grid.linewidth'] = 1.0\n",
    "plt.rcParams['axes.axisbelow'] = True\n",
    "\n",
    "\n",
    "jax.device_count()"
   ]
  },
  {
   "attachments": {},
   "cell_type": "markdown",
   "metadata": {},
   "source": [
    "## データの読み込みと前処理"
   ]
  },
  {
   "cell_type": "code",
   "execution_count": null,
   "metadata": {},
   "outputs": [],
   "source": [
    "data = np.loadtxt('../data/1.csv', skiprows=1, delimiter=',')\n",
    "\n",
    "t = data[:, 0]\n",
    "y_obs = data[:, 1]\n",
    "\n",
    "print(len(t))\n",
    "\n",
    "plt.figure(figsize=(8, 6))\n",
    "plt.scatter(t, y_obs)\n",
    "plt.xlabel('t'); plt.ylabel('y')\n",
    "plt.show()\n",
    "\n",
    "mask = t > 1247.5\n",
    "t = t[mask] - np.min(t[mask])\n",
    "y_obs = y_obs[mask]\n",
    "\n",
    "t = t[::20]\n",
    "y_obs = y_obs[::20]\n",
    "\n",
    "plt.figure(figsize=(8, 6))\n",
    "plt.scatter(t, y_obs)\n",
    "plt.xlabel('t'); plt.ylabel('y')\n",
    "plt.show()"
   ]
  },
  {
   "attachments": {},
   "cell_type": "markdown",
   "metadata": {},
   "source": [
    "## 時定数空間の設定"
   ]
  },
  {
   "cell_type": "code",
   "execution_count": null,
   "metadata": {},
   "outputs": [],
   "source": [
    "\n",
    "# 離散化されたτ空間（例: 対数スケールで10^-1 ～ 10^2）\n",
    "N = 500\n",
    "tau = jnp.linspace(0.1, 100.0, N)  # τ: (N,)\n"
   ]
  },
  {
   "attachments": {},
   "cell_type": "markdown",
   "metadata": {},
   "source": [
    "## 解析の開始"
   ]
  },
  {
   "cell_type": "code",
   "execution_count": null,
   "metadata": {},
   "outputs": [],
   "source": [
    "num_samples = num_warmup = 1000\n",
    "num_chains = 10\n",
    "K_max = 5\n",
    "result_dict = {'K' : [], 'BIC' : [], 'NLL' : [], 'd' : []}\n",
    "mcmc_list = []\n",
    "for k in range(1, K_max+1):\n",
    "    \n",
    "    kernel = NUTS(model, target_accept_prob=0.95, step_size=1)\n",
    "    mcmc = MCMC(kernel, num_samples=num_samples, num_warmup=3*num_warmup, num_chains=num_chains, progress_bar=False)\n",
    "    mcmc.run(random.PRNGKey(1), t=t, y_obs=y_obs, tau=tau, K=k)\n",
    "    # mcmc.print_summary()\n",
    "\n",
    "    log_likelihood_dict = log_likelihood(\n",
    "        model=model, posterior_samples=mcmc.get_samples(), \n",
    "        t=t, y_obs=y_obs, tau=tau, K=k)\n",
    "    nll = -1.0 * jnp.sum( log_likelihood_dict['obs'], axis=1)\n",
    "    nll_map = np.min(nll).item()\n",
    "    ndata = len(t)\n",
    "    parameter_size = k * 3 + 2\n",
    "    bic = 2.0 * nll_map + parameter_size * np.log(ndata)\n",
    "    print(f'bic={bic:.2}, nll={nll_map:.2}, d={parameter_size:.2}')\n",
    "    \n",
    "    result_dict['K'].append(k)\n",
    "    result_dict['BIC'].append(bic)\n",
    "    result_dict['NLL'].append(nll_map)\n",
    "    result_dict['d'].append(parameter_size)\n",
    "    mcmc_list.append(mcmc)"
   ]
  },
  {
   "cell_type": "code",
   "execution_count": null,
   "metadata": {},
   "outputs": [],
   "source": [
    "result_df = pd.DataFrame(result_dict)"
   ]
  },
  {
   "cell_type": "code",
   "execution_count": null,
   "metadata": {},
   "outputs": [],
   "source": [
    "plt.figure(figsize=(8, 6))\n",
    "from matplotlib.ticker import ScalarFormatter\n",
    "plt.gca().yaxis.set_major_formatter(ScalarFormatter(useMathText=True))\n",
    "plt.gca().ticklabel_format(style=\"sci\",  axis=\"y\",scilimits=(0,0))\n",
    "plt.plot(result_dict['K'], result_dict['BIC'], color='gray', zorder=1)\n",
    "plt.scatter(result_dict['K'], result_dict['BIC'], \n",
    "            s=150, edgecolor='k', color='gray', zorder=2)\n",
    "plt.xticks(range(1, K_max+1), range(1, K_max+1))\n",
    "plt.xlabel(r'Number of time constant modes $K$')\n",
    "plt.ylabel(r'Bayesian information criterion $F_\\mathrm{BIC}$')\n",
    "\n",
    "plt.show()"
   ]
  },
  {
   "cell_type": "code",
   "execution_count": null,
   "metadata": {},
   "outputs": [],
   "source": [
    "mcmc = mcmc_list[1]"
   ]
  },
  {
   "cell_type": "code",
   "execution_count": null,
   "metadata": {},
   "outputs": [],
   "source": [
    "sorted_index = np.argsort( mcmc.get_samples()['mu'] )\n",
    "samples = mcmc.get_samples()"
   ]
  },
  {
   "cell_type": "code",
   "execution_count": null,
   "metadata": {},
   "outputs": [],
   "source": [
    "sorted_samples = {}\n",
    "keys = ['h', 'mu', 'sigma']\n",
    "for key in keys:\n",
    "    samples_k = []\n",
    "    for i, j in enumerate(sorted_index):\n",
    "        samples_k.append( samples[key][i, j] )\n",
    "    samples_k = np.array( samples_k )\n",
    "    sorted_samples[key] = samples_k"
   ]
  },
  {
   "cell_type": "code",
   "execution_count": null,
   "metadata": {},
   "outputs": [],
   "source": [
    "plt.figure(figsize=(8, 6))\n",
    "plt.scatter(t, y_obs, c='gray')\n",
    "plt.plot(t, mcmc.get_samples()['f'][-1, :], color='r')\n",
    "plt.xlabel('t');plt.ylabel('y')\n",
    "plt.tight_layout()\n",
    "plt.show()"
   ]
  },
  {
   "cell_type": "code",
   "execution_count": null,
   "metadata": {},
   "outputs": [],
   "source": []
  },
  {
   "cell_type": "code",
   "execution_count": null,
   "metadata": {},
   "outputs": [],
   "source": []
  },
  {
   "cell_type": "code",
   "execution_count": null,
   "metadata": {},
   "outputs": [],
   "source": [
    "# plt.figure(figsize=(7, 7))\n",
    "\n",
    "# # plt.vlines(x=mu_true[0], ymin=tau.min(), ymax=tau.max(), zorder=0.1, ls='--', alpha=0.5)\n",
    "# # plt.hlines(y=mu_true[1], xmin=tau.min(), xmax=tau.max(), zorder=0.2, ls='--', alpha=0.5)\n",
    "\n",
    "# plt.scatter(sorted_samples['mu'][:, 0], sorted_samples['mu'][:, 1], alpha=0.1, c='gray', s=10, zorder=1)\n",
    "\n",
    "# plt.xlabel(r'$\\mu_1$')\n",
    "# plt.ylabel(r'$\\mu_2$')\n",
    "# plt.xlim(tau.min(), tau.max())\n",
    "# plt.ylim(tau.min(), tau.max())\n",
    "# plt.tight_layout()\n",
    "# plt.show()"
   ]
  },
  {
   "cell_type": "code",
   "execution_count": null,
   "metadata": {},
   "outputs": [],
   "source": [
    "argmin_nll = np.argmin(nll)\n",
    "tcd = np.zeros( len(tau) )\n",
    "K = 2\n",
    "for k in range(K):\n",
    "    est_sigma = np.mean( samples['sigma'][argmin_nll, k] )\n",
    "    est_mean = np.mean( samples['mu'][argmin_nll, k] )\n",
    "    est_height = np.mean( samples['h'][argmin_nll, k] )\n",
    "    \n",
    "    tcd += ( est_height * gaussian(tau, est_mean, est_sigma) )\n",
    "    \n",
    "plt.plot(tau, tcd, color='darkred', label='Estimation')\n",
    "plt.fill_between(tau, tcd, color='darkred', alpha=0.2, lw=2)\n",
    "\n",
    "\n",
    "plt.legend()\n",
    "plt.xlim(0, 100)\n",
    "# plt.ylim(0, 1.5)\n",
    "plt.xlabel(r'$\\tau$')\n",
    "plt.ylabel(r'$\\phi$')\n",
    "\n",
    "plt.tight_layout()\n",
    "plt.show()"
   ]
  },
  {
   "cell_type": "code",
   "execution_count": null,
   "metadata": {},
   "outputs": [],
   "source": [
    "areas = []\n",
    "positions = []\n",
    "for k in range(K):\n",
    "    est_sigma = np.mean( samples['sigma'][argmin_nll, k] )\n",
    "    est_mean = np.mean( samples['mu'][argmin_nll, k] )\n",
    "    est_height = np.mean( samples['h'][argmin_nll, k] )\n",
    "    # 各ガウス関数の面積を計算\n",
    "    area = est_height * est_sigma * np.sqrt(2.0 * np.pi)\n",
    "    areas.append(area)\n",
    "    positions.append(est_mean)\n",
    "\n",
    "# 全体の面積\n",
    "total_area = sum(areas)\n",
    "\n",
    "# 面積分率（各ガウス関数の面積 / 全体の面積）\n",
    "area_fractions = [area / total_area for area in areas]\n",
    "\n",
    "# 結果を表示\n",
    "for i, fraction in enumerate(area_fractions):\n",
    "    print(f\"ガウス関数 (position={positions[i]:.2f}) の面積分率: {fraction:.4f}\")"
   ]
  },
  {
   "cell_type": "code",
   "execution_count": null,
   "metadata": {},
   "outputs": [],
   "source": [
    "# plt.figure(figsize=(7, 7))\n",
    "# plt.scatter(samples['b'], sorted_samples['mu'][:, 0], \n",
    "#                     alpha=0.01, c='darkred', s=20)\n",
    "# plt.scatter(samples['b'], sorted_samples['mu'][:, 1], \n",
    "#                     alpha=0.01, c='darkblue', s=20)\n",
    "# plt.xlabel(r'$b$')\n",
    "# plt.ylabel(r'$\\mu$')\n",
    "# # plt.xlim(tau.min(), tau.max())\n",
    "# plt.ylim(tau.min(), tau.max())\n",
    "# plt.tight_layout()\n",
    "# plt.show()"
   ]
  },
  {
   "cell_type": "code",
   "execution_count": null,
   "metadata": {},
   "outputs": [],
   "source": [
    "sum_tcd = np.zeros( len(tau) )\n",
    "draw_samples = np.arange(1, num_chains*num_samples)\n",
    "for j in draw_samples:\n",
    "    tcd = np.zeros( len(tau) )\n",
    "    for k in range(K):\n",
    "        est_sigma = np.mean( samples['sigma'][-j, k] )\n",
    "        est_mean = np.mean( samples['mu'][-j, k] )\n",
    "        est_height = np.mean( samples['h'][-j, k] )\n",
    "        \n",
    "        tcd += ( est_height * gaussian(tau, est_mean, est_sigma) )\n",
    "    \n",
    "    sum_tcd += ( tcd / len(draw_samples) ) \n",
    "\n",
    "plt.plot(tau, sum_tcd, color='darkred', label='Estimation')\n",
    "plt.fill_between(tau, sum_tcd, color='darkred', alpha=0.2, lw=2)\n",
    "\n",
    "plt.legend()\n",
    "plt.xlim(0, 100)\n",
    "# plt.ylim(0, 1.5)\n",
    "plt.xlabel(r'$\\tau$')\n",
    "plt.ylabel(r'$\\phi$')\n",
    "\n",
    "plt.tight_layout()\n",
    "plt.show()"
   ]
  },
  {
   "cell_type": "code",
   "execution_count": null,
   "metadata": {},
   "outputs": [],
   "source": []
  },
  {
   "cell_type": "code",
   "execution_count": null,
   "metadata": {},
   "outputs": [],
   "source": []
  }
 ],
 "metadata": {
  "kernelspec": {
   "display_name": "Python 3",
   "language": "python",
   "name": "python3"
  },
  "language_info": {
   "codemirror_mode": {
    "name": "ipython",
    "version": 3
   },
   "file_extension": ".py",
   "mimetype": "text/x-python",
   "name": "python",
   "nbconvert_exporter": "python",
   "pygments_lexer": "ipython3",
   "version": "3.9.6"
  },
  "orig_nbformat": 4
 },
 "nbformat": 4,
 "nbformat_minor": 2
}
